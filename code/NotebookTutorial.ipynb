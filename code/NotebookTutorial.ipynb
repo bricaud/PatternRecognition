{
 "cells": [
  {
   "cell_type": "markdown",
   "id": "759bcc94-4f84-4bdd-be97-8116eb6e0101",
   "metadata": {},
   "source": [
    "# Jupyter notebook tutorial\n",
    "A small tutorial to explain the basics and the possibilities of the notebooks."
   ]
  },
  {
   "cell_type": "code",
   "execution_count": null,
   "id": "caefe466-1aaa-4672-86f4-8795dd93482d",
   "metadata": {},
   "outputs": [],
   "source": [
    "# Import the Python libraries for math and plotting\n",
    "import numpy as np\n",
    "import matplotlib.pyplot as plt"
   ]
  },
  {
   "cell_type": "markdown",
   "id": "3913568a-44b6-4d6e-901e-aecfb474a24f",
   "metadata": {},
   "source": [
    "The Numpy documentation is here [https://numpy.org/doc/stable/index.html](https://numpy.org/doc/stable/index.html)\n",
    "\n",
    "The matplotlib documentation can be found here: [https://matplotlib.org/](https://matplotlib.org/)"
   ]
  },
  {
   "cell_type": "code",
   "execution_count": null,
   "id": "590f2a57-53fb-4f19-a1cb-cd8e1da391af",
   "metadata": {},
   "outputs": [],
   "source": [
    "# Import the scikit-learn library for machine learning\n",
    "import sklearn "
   ]
  },
  {
   "cell_type": "markdown",
   "id": "ce1f55b0-aaad-42fa-988b-b30e799b4e85",
   "metadata": {},
   "source": [
    "Scikit-learn documentation: [https://scikit-learn.org/stable/](https://scikit-learn.org/stable/)"
   ]
  },
  {
   "cell_type": "markdown",
   "id": "849a6e65-da55-4bd9-b34a-12aa830ed02d",
   "metadata": {},
   "source": [
    "## Basic linear algebra\n",
    "Let us build a matrix. We can use Numpy and the `array` object."
   ]
  },
  {
   "cell_type": "code",
   "execution_count": null,
   "id": "06d8284d-8cea-4efb-b799-38a4da53cc0b",
   "metadata": {},
   "outputs": [],
   "source": [
    "A = np.array([[1,2],[3,4]])"
   ]
  },
  {
   "cell_type": "code",
   "execution_count": null,
   "id": "aa0c4093-bc0f-4ea3-89fd-a0e3ef39148b",
   "metadata": {},
   "outputs": [],
   "source": [
    "A"
   ]
  },
  {
   "cell_type": "code",
   "execution_count": null,
   "id": "42cd33fe-6712-4180-819a-2c675b130c9a",
   "metadata": {},
   "outputs": [],
   "source": [
    "B = np.identity(2)\n",
    "B"
   ]
  },
  {
   "cell_type": "markdown",
   "id": "61d2f182-d600-421d-953b-2bc083799f2e",
   "metadata": {},
   "source": [
    " Something to keep in mind: the multiplication `*` of arrays is a elementwise multiplication. See the 2 examples below:"
   ]
  },
  {
   "cell_type": "code",
   "execution_count": null,
   "id": "d7b42ffd-8d9c-4622-b547-55f402d7bfce",
   "metadata": {},
   "outputs": [],
   "source": [
    "# entry-wise multiplication\n",
    "A*B"
   ]
  },
  {
   "cell_type": "code",
   "execution_count": null,
   "id": "f5592a95-9568-49a4-816b-2907652d7269",
   "metadata": {},
   "outputs": [],
   "source": [
    "# Matrix multiplication\n",
    "C=A.dot(B)\n",
    "print(C)"
   ]
  },
  {
   "cell_type": "markdown",
   "id": "0a8cfd53-d22c-427a-88ba-32d349397f39",
   "metadata": {},
   "source": [
    "You can use LaTeX inside the comments in Markdown.\n",
    "\n",
    "Let us define the function $f$ as $f(x)=x^2$ on the interval $[0,2]$:"
   ]
  },
  {
   "cell_type": "code",
   "execution_count": null,
   "id": "7dcccc77-3add-4323-a264-fbcf9c0776ce",
   "metadata": {},
   "outputs": [],
   "source": [
    "# range of values\n",
    "r = np.arange(20)\n",
    "# variable and function\n",
    "x = r/10\n",
    "f = x*x"
   ]
  },
  {
   "cell_type": "markdown",
   "id": "bc837c54-8c10-4494-a7b7-63c562048025",
   "metadata": {},
   "source": [
    "## Plotting"
   ]
  },
  {
   "cell_type": "code",
   "execution_count": null,
   "id": "bd8498bd-b36d-4bec-86c3-6e24101b2dd8",
   "metadata": {},
   "outputs": [],
   "source": [
    "# plotting - first example\n",
    "plt.plot(x,f, label='$f$')\n",
    "plt.plot(x,x, label='$x$')\n",
    "plt.xlabel('$x$')\n",
    "plt.ylabel('Function value')\n",
    "plt.title('Plot of functions')\n",
    "plt.legend()\n",
    "plt.show()"
   ]
  },
  {
   "cell_type": "markdown",
   "id": "52232b5f-c875-4984-801b-686e7f4e102e",
   "metadata": {},
   "source": [
    "# A synthetic dataset and its visualization\n",
    "Let us go a bit further.\n",
    "\n",
    "Let us make 2 sets of point randomly distributed (normal distribution) in 2D."
   ]
  },
  {
   "cell_type": "code",
   "execution_count": null,
   "id": "58d16e8c-68b7-4244-a2d7-3f97b82fe933",
   "metadata": {},
   "outputs": [],
   "source": [
    "cov = [[25, 20], [20, 25]]  # diagonal covariance, points lie on x or y-axis\n",
    "\n",
    "meanI = [40, 40]\n",
    "datapointsI = 2000\n",
    "dataI = np.random.multivariate_normal(meanI, cov, datapointsI).T\n",
    "\n",
    "meanII = [60, 20]\n",
    "datapointsII = 2000\n",
    "dataII = np.random.multivariate_normal(meanII, cov, datapointsII).T"
   ]
  },
  {
   "cell_type": "markdown",
   "id": "eb15fcb0-0c70-42e0-b61f-94b7cee66131",
   "metadata": {},
   "source": [
    "Let us visualize the distribution with 2 methods"
   ]
  },
  {
   "cell_type": "code",
   "execution_count": null,
   "id": "d59d73d7-3f43-4a3a-9e48-5cae34f59fe6",
   "metadata": {},
   "outputs": [],
   "source": [
    "# first method for point clouds\n",
    "plt.figure(dpi=200)\n",
    "\n",
    "x, y = dataI\n",
    "plt.plot(x, y, 'x')\n",
    "x, y = dataII\n",
    "plt.plot(x, y, 'o')\n",
    "\n",
    "#plt.axis('equal')\n",
    "plt.savefig('examplevis.png')\n",
    "plt.show()"
   ]
  },
  {
   "cell_type": "code",
   "execution_count": null,
   "id": "f718d70e-4bf4-4ca0-a328-43f1763ef97d",
   "metadata": {},
   "outputs": [],
   "source": [
    "# second method\n",
    "X = np.hstack((dataI,dataII))\n",
    "color = np.hstack((np.zeros((dataI.shape[1])),np.ones((dataII.shape[1]))))\n",
    "plt.scatter(X[0,:],X[1,:], c=color.T)\n",
    "plt.colorbar()\n",
    "plt.show()"
   ]
  },
  {
   "cell_type": "code",
   "execution_count": null,
   "id": "40e15e5c-fcef-4638-80aa-6c1eaec5faf9",
   "metadata": {},
   "outputs": [],
   "source": []
  }
 ],
 "metadata": {
  "kernelspec": {
   "display_name": "Python 3",
   "language": "python",
   "name": "python3"
  },
  "language_info": {
   "codemirror_mode": {
    "name": "ipython",
    "version": 3
   },
   "file_extension": ".py",
   "mimetype": "text/x-python",
   "name": "python",
   "nbconvert_exporter": "python",
   "pygments_lexer": "ipython3",
   "version": "3.6.9"
  }
 },
 "nbformat": 4,
 "nbformat_minor": 5
}
